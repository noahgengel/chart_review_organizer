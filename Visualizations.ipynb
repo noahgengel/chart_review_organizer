{
 "cells": [
  {
   "cell_type": "markdown",
   "metadata": {},
   "source": [
    "## Notebook to visualize data for the TNE project"
   ]
  },
  {
   "cell_type": "code",
   "execution_count": 21,
   "metadata": {
    "collapsed": true
   },
   "outputs": [],
   "source": [
    "import pandas as pd\n",
    "import numpy as np\n",
    "import matplotlib.pyplot as plt\n",
    "import os"
   ]
  },
  {
   "cell_type": "code",
   "execution_count": 22,
   "metadata": {
    "collapsed": true
   },
   "outputs": [],
   "source": [
    "from legend_dictionaries import *\n",
    "from constants import output_file, sheet_name, columns_dictionary\n",
    "from classes import tne_row"
   ]
  },
  {
   "cell_type": "code",
   "execution_count": 23,
   "metadata": {},
   "outputs": [],
   "source": [
    "cwd = os.getcwd()\n",
    "full_file_name = cwd + \"/\" + output_file\n",
    "\n",
    "xl = pd.ExcelFile(full_file_name)\n",
    "df = xl.parse(sheet_name)"
   ]
  },
  {
   "cell_type": "code",
   "execution_count": 24,
   "metadata": {
    "collapsed": true
   },
   "outputs": [],
   "source": [
    "tne_objects = []"
   ]
  },
  {
   "cell_type": "code",
   "execution_count": 25,
   "metadata": {},
   "outputs": [],
   "source": [
    "for idx, row in df.iterrows():\n",
    "    name = row[columns_dictionary[\"name_col\"]]\n",
    "    mrn = row[columns_dictionary[\"mrn_col\"]]\n",
    "    dob = row[columns_dictionary[\"dob_col\"]]\n",
    "    age = row[columns_dictionary[\"age_col\"]]\n",
    "    sex = row[columns_dictionary[\"sex_col\"]]\n",
    "    race = row[columns_dictionary[\"race_col\"]]\n",
    "    procedure_date = row[columns_dictionary[\"procedure_date_col\"]]\n",
    "    co_morbidities = row[columns_dictionary[\"comorbidities_col\"]]\n",
    "    prev_barium_swallow = row[columns_dictionary[\"barium_col\"]]\n",
    "    tne_indication = row[columns_dictionary[\"tne_indication_col\"]]\n",
    "    surgeon = row[columns_dictionary[\"surgeon_col\"]]\n",
    "    slp = row[columns_dictionary[\"slp_col\"]]\n",
    "    completion = row[columns_dictionary[\"procedure_completion_col\"]]\n",
    "    complications = row[columns_dictionary[\"complications_col\"]]\n",
    "    esoph_procedure = row[columns_dictionary[\"esophageal_procedure_col\"]]\n",
    "    laryngeal_procedure = row[columns_dictionary[\"laryngeal_procedure_col\"]]\n",
    "    abnormal_esoph_findings = row[columns_dictionary[\"abnormal_esoph_findings_col\"]]\n",
    "    cpt_code = row[columns_dictionary[\"cpt_col\"]]\n",
    "    icd_code = row[columns_dictionary[\"icd_col\"]]\n",
    "    \n",
    "    tne_object = tne_row(\n",
    "        name = name, mrn = mrn, dob = dob, age = age,\n",
    "        sex = sex, race = race, procedure_date = procedure_date,\n",
    "        co_morbidities = co_morbidities,\n",
    "        prev_barium_swallow = prev_barium_swallow,\n",
    "        tne_indication = tne_indication,\n",
    "        surgeon = surgeon, slp = slp, completion = completion,\n",
    "        complications = complications, esoph_procedure = esoph_procedure,\n",
    "        laryngeal_procedure = laryngeal_procedure,\n",
    "        abnormal_esoph_findings = abnormal_esoph_findings,\n",
    "        cpt_code = cpt_code, icd_code = icd_code)\n",
    "    \n",
    "    tne_objects.append(tne_object)"
   ]
  },
  {
   "cell_type": "code",
   "execution_count": 26,
   "metadata": {},
   "outputs": [
    {
     "data": {
      "text/plain": [
       "183"
      ]
     },
     "execution_count": 26,
     "metadata": {},
     "output_type": "execute_result"
    }
   ],
   "source": [
    "len(tne_objects)"
   ]
  },
  {
   "cell_type": "code",
   "execution_count": 27,
   "metadata": {},
   "outputs": [
    {
     "name": "stdout",
     "output_type": "stream",
     "text": [
      "\n",
      "    There are 78 distinct MRNs.\n",
      "\n"
     ]
    }
   ],
   "source": [
    "encountered_mrns = []\n",
    "\n",
    "for obj in tne_objects:\n",
    "    if obj.mrn not in encountered_mrns:\n",
    "        encountered_mrns.append(obj.mrn)\n",
    "\n",
    "num_distinct_mrns = len(encountered_mrns)\n",
    "        \n",
    "print(f\"\"\"\n",
    "    There are {num_distinct_mrns} distinct MRNs.\n",
    "\"\"\")"
   ]
  },
  {
   "cell_type": "markdown",
   "metadata": {},
   "source": [
    "## Patient Demographics"
   ]
  },
  {
   "cell_type": "code",
   "execution_count": 38,
   "metadata": {},
   "outputs": [
    {
     "name": "stdout",
     "output_type": "stream",
     "text": [
      "There are 58 males in the dataset and 20 females in the dataset\n",
      "\n",
      "There are:\n",
      "    64 white persons in the dataset\n",
      "    1 hispanic persons in the dataset\n",
      "    10 black persons in the dataset\n",
      "    3 Asian persons in the dataset\n",
      "\n"
     ]
    }
   ],
   "source": [
    "encountered_mrns = []\n",
    "\n",
    "num_males, num_females = 0, 0\n",
    "num_whites, num_hispanic, num_black, num_asian = 0, 0, 0, 0\n",
    "\n",
    "for obj in tne_objects:\n",
    "\n",
    "    if obj.mrn not in encountered_mrns:\n",
    "        encountered_mrns.append(obj.mrn)\n",
    "        \n",
    "        # sex encoded as a tuple - take first\n",
    "        if obj.sex[0] == 1:\n",
    "            num_males += 1\n",
    "        elif obj.sex[0] == 2:\n",
    "            num_females += 1\n",
    "            \n",
    "        if obj.race[0] == 1:\n",
    "            num_whites += 1\n",
    "        elif obj.race[0] == 2:\n",
    "            num_hispanic += 1\n",
    "        elif obj.race[0] == 3:\n",
    "            num_black += 1\n",
    "        elif obj.race[0] == 4:\n",
    "            num_asian += 1\n",
    "            \n",
    "print(f\"\"\"There are {num_males} males in the dataset and {num_females} females in the dataset\"\"\")\n",
    "\n",
    "print(f\"\"\"\n",
    "There are:\n",
    "    {num_whites} white persons in the dataset\n",
    "    {num_hispanic} hispanic persons in the dataset\n",
    "    {num_black} black persons in the dataset\n",
    "    {num_asian} Asian persons in the dataset\n",
    "\"\"\")"
   ]
  },
  {
   "cell_type": "code",
   "execution_count": 45,
   "metadata": {},
   "outputs": [
    {
     "data": {
      "image/png": "[encoded data removed]",
      "text/plain": [
       "<Figure size 432x288 with 1 Axes>"
      ]
     },
     "metadata": {},
     "output_type": "display_data"
    }
   ],
   "source": [
    "fig = plt.figure()\n",
    "plt.pie([num_males, num_females], labels = [\n",
    "    'Males (n={num_males})'.format(num_males=num_males),\n",
    "    'Females (n={num_females})'.format(num_females=num_females)], autopct='%1.1f%%',\n",
    "        shadow=True, startangle=90)\n",
    "plt.title('Sex Distribution in TNE Study')\n",
    "plt.axis('equal')\n",
    "plt.legend(title = 'Sex')\n",
    "\n",
    "plt.show()\n",
    "fig.savefig('sex_distribution.png')"
   ]
  },
  {
   "cell_type": "code",
   "execution_count": 44,
   "metadata": {},
   "outputs": [
    {
     "data": {
      "image/png": "[encoded data removed]",
      "text/plain": [
       "<Figure size 432x288 with 1 Axes>"
      ]
     },
     "metadata": {},
     "output_type": "display_data"
    }
   ],
   "source": [
    "fig = plt.figure()\n",
    "plt.pie([num_whites, num_hispanic, num_black, num_asian],\n",
    "        labels = ['White (n ={num_whites})'.format(num_whites=num_whites),\n",
    "                  'Hispanic (n={num_hispanic})'.format(num_hispanic=num_hispanic),\n",
    "                  'Black (n={num_black})'.format(num_black=num_black),\n",
    "                  'Asian (n={num_asian})'.format(num_asian=num_asian)], autopct='%1.1f%%',\n",
    "        shadow=True, startangle=90)\n",
    "plt.title('Race Distribution in TNE Study')\n",
    "plt.axis('equal')\n",
    "plt.legend(title = 'Race')\n",
    "\n",
    "plt.show()\n",
    "fig.savefig('race_distribution.png')"
   ]
  },
  {
   "cell_type": "code",
   "execution_count": null,
   "metadata": {
    "collapsed": true
   },
   "outputs": [],
   "source": []
  }
 ],
 "metadata": {
  "kernelspec": {
   "display_name": "Python 3",
   "language": "python",
   "name": "python3"
  },
  "language_info": {
   "codemirror_mode": {
    "name": "ipython",
    "version": 3
   },
   "file_extension": ".py",
   "mimetype": "text/x-python",
   "name": "python",
   "nbconvert_exporter": "python",
   "pygments_lexer": "ipython3",
   "version": "3.6.3"
  }
 },
 "nbformat": 4,
 "nbformat_minor": 2
}
